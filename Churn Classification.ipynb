{
 "cells": [
  {
   "cell_type": "code",
   "execution_count": 39,
   "id": "accaf87b-1bc0-4956-b030-d38b55e1ee1e",
   "metadata": {},
   "outputs": [],
   "source": [
    "#importing relevant libraries\n",
    "import pandas as pd\n",
    "import numpy as np\n",
    "import seaborn as sns\n",
    "from sklearn.model_selection import train_test_split\n",
    "from sklearn.feature_selection import mutual_info_classif\n",
    "from sklearn.preprocessing import LabelEncoder\n",
    "from sklearn.preprocessing import OneHotEncoder\n",
    "from sklearn.linear_model import LogisticRegression\n",
    "from sklearn.compose import ColumnTransformer\n",
    "from sklearn.pipeline import Pipeline\n",
    "from sklearn.metrics import accuracy_score"
   ]
  },
  {
   "cell_type": "code",
   "execution_count": 5,
   "id": "b5a42c6c-1725-4ead-9d72-2e0a0b9c6502",
   "metadata": {},
   "outputs": [
    {
     "data": {
      "text/html": [
       "<div>\n",
       "<style scoped>\n",
       "    .dataframe tbody tr th:only-of-type {\n",
       "        vertical-align: middle;\n",
       "    }\n",
       "\n",
       "    .dataframe tbody tr th {\n",
       "        vertical-align: top;\n",
       "    }\n",
       "\n",
       "    .dataframe thead th {\n",
       "        text-align: right;\n",
       "    }\n",
       "</style>\n",
       "<table border=\"1\" class=\"dataframe\">\n",
       "  <thead>\n",
       "    <tr style=\"text-align: right;\">\n",
       "      <th></th>\n",
       "      <th>lead_source</th>\n",
       "      <th>industry</th>\n",
       "      <th>number_of_courses_viewed</th>\n",
       "      <th>annual_income</th>\n",
       "      <th>employment_status</th>\n",
       "      <th>location</th>\n",
       "      <th>interaction_count</th>\n",
       "      <th>lead_score</th>\n",
       "      <th>converted</th>\n",
       "    </tr>\n",
       "  </thead>\n",
       "  <tbody>\n",
       "    <tr>\n",
       "      <th>0</th>\n",
       "      <td>paid_ads</td>\n",
       "      <td>NaN</td>\n",
       "      <td>1</td>\n",
       "      <td>79450.0</td>\n",
       "      <td>unemployed</td>\n",
       "      <td>south_america</td>\n",
       "      <td>4</td>\n",
       "      <td>0.94</td>\n",
       "      <td>1</td>\n",
       "    </tr>\n",
       "    <tr>\n",
       "      <th>1</th>\n",
       "      <td>social_media</td>\n",
       "      <td>retail</td>\n",
       "      <td>1</td>\n",
       "      <td>46992.0</td>\n",
       "      <td>employed</td>\n",
       "      <td>south_america</td>\n",
       "      <td>1</td>\n",
       "      <td>0.80</td>\n",
       "      <td>0</td>\n",
       "    </tr>\n",
       "    <tr>\n",
       "      <th>2</th>\n",
       "      <td>events</td>\n",
       "      <td>healthcare</td>\n",
       "      <td>5</td>\n",
       "      <td>78796.0</td>\n",
       "      <td>unemployed</td>\n",
       "      <td>australia</td>\n",
       "      <td>3</td>\n",
       "      <td>0.69</td>\n",
       "      <td>1</td>\n",
       "    </tr>\n",
       "    <tr>\n",
       "      <th>3</th>\n",
       "      <td>paid_ads</td>\n",
       "      <td>retail</td>\n",
       "      <td>2</td>\n",
       "      <td>83843.0</td>\n",
       "      <td>NaN</td>\n",
       "      <td>australia</td>\n",
       "      <td>1</td>\n",
       "      <td>0.87</td>\n",
       "      <td>0</td>\n",
       "    </tr>\n",
       "    <tr>\n",
       "      <th>4</th>\n",
       "      <td>referral</td>\n",
       "      <td>education</td>\n",
       "      <td>3</td>\n",
       "      <td>85012.0</td>\n",
       "      <td>self_employed</td>\n",
       "      <td>europe</td>\n",
       "      <td>3</td>\n",
       "      <td>0.62</td>\n",
       "      <td>1</td>\n",
       "    </tr>\n",
       "  </tbody>\n",
       "</table>\n",
       "</div>"
      ],
      "text/plain": [
       "    lead_source    industry  number_of_courses_viewed  annual_income  \\\n",
       "0      paid_ads         NaN                         1        79450.0   \n",
       "1  social_media      retail                         1        46992.0   \n",
       "2        events  healthcare                         5        78796.0   \n",
       "3      paid_ads      retail                         2        83843.0   \n",
       "4      referral   education                         3        85012.0   \n",
       "\n",
       "  employment_status       location  interaction_count  lead_score  converted  \n",
       "0        unemployed  south_america                  4        0.94          1  \n",
       "1          employed  south_america                  1        0.80          0  \n",
       "2        unemployed      australia                  3        0.69          1  \n",
       "3               NaN      australia                  1        0.87          0  \n",
       "4     self_employed         europe                  3        0.62          1  "
      ]
     },
     "metadata": {},
     "output_type": "display_data"
    }
   ],
   "source": [
    "#displaying the application data set as a dataframe\n",
    "df = pd.read_csv(\"https://raw.githubusercontent.com/alexeygrigorev/datasets/master/course_lead_scoring.csv\")\n",
    "pd.set_option('display.max_columns',50)\n",
    "display(df.head())"
   ]
  },
  {
   "cell_type": "code",
   "execution_count": 7,
   "id": "e15dc954-7459-40cb-9a70-2b118bed5486",
   "metadata": {},
   "outputs": [
    {
     "data": {
      "text/html": [
       "<div>\n",
       "<style scoped>\n",
       "    .dataframe tbody tr th:only-of-type {\n",
       "        vertical-align: middle;\n",
       "    }\n",
       "\n",
       "    .dataframe tbody tr th {\n",
       "        vertical-align: top;\n",
       "    }\n",
       "\n",
       "    .dataframe thead th {\n",
       "        text-align: right;\n",
       "    }\n",
       "</style>\n",
       "<table border=\"1\" class=\"dataframe\">\n",
       "  <thead>\n",
       "    <tr style=\"text-align: right;\">\n",
       "      <th></th>\n",
       "      <th>number_of_courses_viewed</th>\n",
       "      <th>annual_income</th>\n",
       "      <th>interaction_count</th>\n",
       "      <th>lead_score</th>\n",
       "      <th>converted</th>\n",
       "    </tr>\n",
       "  </thead>\n",
       "  <tbody>\n",
       "    <tr>\n",
       "      <th>count</th>\n",
       "      <td>1462.000000</td>\n",
       "      <td>1281.000000</td>\n",
       "      <td>1462.000000</td>\n",
       "      <td>1462.000000</td>\n",
       "      <td>1462.000000</td>\n",
       "    </tr>\n",
       "    <tr>\n",
       "      <th>mean</th>\n",
       "      <td>2.031464</td>\n",
       "      <td>59886.273224</td>\n",
       "      <td>2.976744</td>\n",
       "      <td>0.506108</td>\n",
       "      <td>0.619015</td>\n",
       "    </tr>\n",
       "    <tr>\n",
       "      <th>std</th>\n",
       "      <td>1.449717</td>\n",
       "      <td>15070.140389</td>\n",
       "      <td>1.681564</td>\n",
       "      <td>0.288465</td>\n",
       "      <td>0.485795</td>\n",
       "    </tr>\n",
       "    <tr>\n",
       "      <th>min</th>\n",
       "      <td>0.000000</td>\n",
       "      <td>13929.000000</td>\n",
       "      <td>0.000000</td>\n",
       "      <td>0.000000</td>\n",
       "      <td>0.000000</td>\n",
       "    </tr>\n",
       "    <tr>\n",
       "      <th>25%</th>\n",
       "      <td>1.000000</td>\n",
       "      <td>49698.000000</td>\n",
       "      <td>2.000000</td>\n",
       "      <td>0.262500</td>\n",
       "      <td>0.000000</td>\n",
       "    </tr>\n",
       "    <tr>\n",
       "      <th>50%</th>\n",
       "      <td>2.000000</td>\n",
       "      <td>60148.000000</td>\n",
       "      <td>3.000000</td>\n",
       "      <td>0.510000</td>\n",
       "      <td>1.000000</td>\n",
       "    </tr>\n",
       "    <tr>\n",
       "      <th>75%</th>\n",
       "      <td>3.000000</td>\n",
       "      <td>69639.000000</td>\n",
       "      <td>4.000000</td>\n",
       "      <td>0.750000</td>\n",
       "      <td>1.000000</td>\n",
       "    </tr>\n",
       "    <tr>\n",
       "      <th>max</th>\n",
       "      <td>9.000000</td>\n",
       "      <td>109899.000000</td>\n",
       "      <td>11.000000</td>\n",
       "      <td>1.000000</td>\n",
       "      <td>1.000000</td>\n",
       "    </tr>\n",
       "  </tbody>\n",
       "</table>\n",
       "</div>"
      ],
      "text/plain": [
       "       number_of_courses_viewed  annual_income  interaction_count  \\\n",
       "count               1462.000000    1281.000000        1462.000000   \n",
       "mean                   2.031464   59886.273224           2.976744   \n",
       "std                    1.449717   15070.140389           1.681564   \n",
       "min                    0.000000   13929.000000           0.000000   \n",
       "25%                    1.000000   49698.000000           2.000000   \n",
       "50%                    2.000000   60148.000000           3.000000   \n",
       "75%                    3.000000   69639.000000           4.000000   \n",
       "max                    9.000000  109899.000000          11.000000   \n",
       "\n",
       "        lead_score    converted  \n",
       "count  1462.000000  1462.000000  \n",
       "mean      0.506108     0.619015  \n",
       "std       0.288465     0.485795  \n",
       "min       0.000000     0.000000  \n",
       "25%       0.262500     0.000000  \n",
       "50%       0.510000     1.000000  \n",
       "75%       0.750000     1.000000  \n",
       "max       1.000000     1.000000  "
      ]
     },
     "execution_count": 7,
     "metadata": {},
     "output_type": "execute_result"
    }
   ],
   "source": [
    "df.describe()"
   ]
  },
  {
   "cell_type": "code",
   "execution_count": 8,
   "id": "1f9ce8a4-d72a-4bb8-9c26-a426715d0c25",
   "metadata": {},
   "outputs": [
    {
     "name": "stdout",
     "output_type": "stream",
     "text": [
      "lead_source          128\n",
      "industry             134\n",
      "annual_income        181\n",
      "employment_status    100\n",
      "location              63\n",
      "dtype: int64\n"
     ]
    }
   ],
   "source": [
    "# How many columns in the dataset have missing values?\n",
    "print(df.isnull().sum()[df.isnull().sum() > 0])"
   ]
  },
  {
   "cell_type": "code",
   "execution_count": 9,
   "id": "cc1de8c5-b4de-4211-88f5-a00643d1c759",
   "metadata": {},
   "outputs": [
    {
     "data": {
      "text/plain": [
       "Index(['lead_source', 'industry', 'number_of_courses_viewed', 'annual_income',\n",
       "       'employment_status', 'location', 'interaction_count', 'lead_score',\n",
       "       'converted'],\n",
       "      dtype='object')"
      ]
     },
     "execution_count": 9,
     "metadata": {},
     "output_type": "execute_result"
    }
   ],
   "source": [
    "df.columns"
   ]
  },
  {
   "cell_type": "code",
   "execution_count": 16,
   "id": "04f6a4b8-915c-4fb1-b8de-2aaedfe748a3",
   "metadata": {},
   "outputs": [
    {
     "data": {
      "text/plain": [
       "lead_source                  object\n",
       "industry                     object\n",
       "number_of_courses_viewed      int64\n",
       "annual_income               float64\n",
       "employment_status            object\n",
       "location                     object\n",
       "interaction_count             int64\n",
       "lead_score                  float64\n",
       "converted                     int64\n",
       "dtype: object"
      ]
     },
     "execution_count": 16,
     "metadata": {},
     "output_type": "execute_result"
    }
   ],
   "source": [
    "df.dtypes"
   ]
  },
  {
   "cell_type": "code",
   "execution_count": 11,
   "id": "e0a6695d-f212-404b-9bee-ee863612d322",
   "metadata": {},
   "outputs": [],
   "source": [
    "# Replace missing values correctly\n",
    "for col in df.columns:\n",
    "    if df[col].dtype == 'object':      # Categorical\n",
    "        df[col] = df[col].fillna('NA')\n",
    "    else:                              # Numerical\n",
    "        df[col] = df[col].fillna(0.0)"
   ]
  },
  {
   "cell_type": "code",
   "execution_count": 14,
   "id": "b5698b8d-11d0-4278-a8dc-c676e8acfb76",
   "metadata": {},
   "outputs": [
    {
     "data": {
      "text/plain": [
       "'retail'"
      ]
     },
     "execution_count": 14,
     "metadata": {},
     "output_type": "execute_result"
    }
   ],
   "source": [
    "#What is the most frequent observation (mode) for the column industry?\n",
    "df['industry'].mode()[0]"
   ]
  },
  {
   "cell_type": "code",
   "execution_count": 21,
   "id": "6d743e50-d9ef-4cba-adc8-38128b705686",
   "metadata": {},
   "outputs": [],
   "source": [
    "#numerical_features\n",
    "numerical_features = [\"number_of_courses_viewed\", \"interaction_count\", \"converted\"]\n",
    "\n",
    "# Categorical features\n",
    "categorical_features = ['industry', 'location', 'lead_source', 'employment_status']"
   ]
  },
  {
   "cell_type": "code",
   "execution_count": 45,
   "id": "6dd638ad-fadc-40e0-a959-5a377a6cd51c",
   "metadata": {},
   "outputs": [
    {
     "data": {
      "text/plain": [
       "(('number_of_courses_viewed', 'interaction_count'), -0.023565222882888037)"
      ]
     },
     "execution_count": 45,
     "metadata": {},
     "output_type": "execute_result"
    }
   ],
   "source": [
    "#What are the two features that have the biggest correlation?\n",
    "# Compute correlation matrix for numerical features\n",
    "corr_matrix = df[numerical_features].corr()\n",
    "\n",
    "# Find the two features with the highest correlation (excluding self-correlation)\n",
    "corr_unstacked = corr_matrix.unstack().sort_values(ascending=False)\n",
    "corr_unstacked = corr_unstacked[corr_unstacked < 1]  # remove self-correlation\n",
    "top_pair = corr_unstacked.idxmax()\n",
    "top_value = corr_unstacked.max()\n",
    "\n",
    "top_pair, top_value"
   ]
  },
  {
   "cell_type": "code",
   "execution_count": 23,
   "id": "69adc0ca-262f-4111-a485-2375c56d2b14",
   "metadata": {},
   "outputs": [],
   "source": [
    "# Separate features and target\n",
    "X = df.drop(columns=['converted'])\n",
    "y = df['converted']"
   ]
  },
  {
   "cell_type": "code",
   "execution_count": 26,
   "id": "7d360629-b205-40ef-b331-85eedd9c9e3e",
   "metadata": {},
   "outputs": [],
   "source": [
    "# First split: train (60%) and temp (40%)\n",
    "X_train, X_temp, y_train, y_temp = train_test_split(X, y, test_size=0.4, random_state=42)"
   ]
  },
  {
   "cell_type": "code",
   "execution_count": 27,
   "id": "f59077cc-b089-40c4-9d49-ee11b3122ead",
   "metadata": {},
   "outputs": [],
   "source": [
    "# Second split: val (20%) and test (20%)\n",
    "X_val, X_test, y_val, y_test = train_test_split(X_temp, y_temp, test_size=0.5, random_state=42)"
   ]
  },
  {
   "cell_type": "code",
   "execution_count": 36,
   "id": "7277d201-92db-44c5-bc3c-abaa5b111d3b",
   "metadata": {},
   "outputs": [],
   "source": [
    "# Encode categorical features\n",
    "X_train_encoded = X_train[categorical_features].copy()\n",
    "for col in categorical_features:\n",
    "    le = LabelEncoder()\n",
    "    X_train_encoded[col] = le.fit_transform(X_train_encoded[col])"
   ]
  },
  {
   "cell_type": "code",
   "execution_count": 46,
   "id": "2ac83927-77d8-4d8f-986e-b4220282f9d9",
   "metadata": {},
   "outputs": [
    {
     "data": {
      "text/plain": [
       "('lead_source',\n",
       " {'industry': 0.02,\n",
       "  'location': 0.0,\n",
       "  'lead_source': 0.03,\n",
       "  'employment_status': 0.02})"
      ]
     },
     "execution_count": 46,
     "metadata": {},
     "output_type": "execute_result"
    }
   ],
   "source": [
    "# Which of these variables has the biggest mutual information score?\n",
    "# Copy X_train to not change the original\n",
    "X_train_encoded = X_train[categorical_features].copy()\n",
    "\n",
    "# Encode categorical features\n",
    "for col in categorical_features:\n",
    "    le = LabelEncoder()\n",
    "    X_train_encoded[col] = le.fit_transform(X_train_encoded[col])\n",
    "\n",
    "# Compute mutual information\n",
    "mi_scores = mutual_info_classif(X_train_encoded, y_train, discrete_features=True, random_state=42)\n",
    "\n",
    "# Round and pair\n",
    "mi_dict = {feature: round(score, 2) for feature, score in zip(categorical_features, mi_scores)}\n",
    "\n",
    "# Feature with highest MI\n",
    "max_feature = max(mi_dict, key=mi_dict.get)\n",
    "max_feature, mi_dict\n"
   ]
  },
  {
   "cell_type": "code",
   "execution_count": 47,
   "id": "bd06a774-a619-4cd5-9d39-15df01b159e4",
   "metadata": {},
   "outputs": [
    {
     "data": {
      "text/plain": [
       "0.74"
      ]
     },
     "execution_count": 47,
     "metadata": {},
     "output_type": "execute_result"
    }
   ],
   "source": [
    "#What accuracy did you get?\n",
    "# Preprocessing: one-hot encode categorical variables\n",
    "preprocessor = ColumnTransformer(\n",
    "    transformers=[\n",
    "        ('cat', OneHotEncoder(handle_unknown='ignore'), categorical_features)\n",
    "    ],\n",
    "    remainder='passthrough'  # keep numerical features\n",
    ")\n",
    "\n",
    "# Define model\n",
    "model = LogisticRegression(solver='liblinear', C=1.0, max_iter=1000, random_state=42)\n",
    "\n",
    "# Pipeline: preprocessing + model\n",
    "pipeline = Pipeline(steps=[('preprocessor', preprocessor), ('classifier', model)])\n",
    "\n",
    "# Fit model on training data\n",
    "pipeline.fit(X_train, y_train)\n",
    "\n",
    "# Predict on validation set\n",
    "y_val_pred = pipeline.predict(X_val)\n",
    "\n",
    "# Calculate accuracy\n",
    "accuracy = round(accuracy_score(y_val, y_val_pred), 2)\n",
    "accuracy\n"
   ]
  },
  {
   "cell_type": "code",
   "execution_count": 43,
   "id": "52899b04-d5f4-49b6-a805-bc195b8ad1e4",
   "metadata": {},
   "outputs": [],
   "source": [
    "# Get full list of features after one-hot encoding\n",
    "ohe = OneHotEncoder(handle_unknown='ignore', sparse_output=False)\n",
    "X_train_ohe = ohe.fit_transform(X_train[categorical_features])\n",
    "X_val_ohe = ohe.transform(X_val[categorical_features])"
   ]
  },
  {
   "cell_type": "code",
   "execution_count": 50,
   "id": "14215df9-3563-4e7a-a796-e4f1377ac8c9",
   "metadata": {},
   "outputs": [
    {
     "data": {
      "text/html": [
       "<div>\n",
       "<style scoped>\n",
       "    .dataframe tbody tr th:only-of-type {\n",
       "        vertical-align: middle;\n",
       "    }\n",
       "\n",
       "    .dataframe tbody tr th {\n",
       "        vertical-align: top;\n",
       "    }\n",
       "\n",
       "    .dataframe thead th {\n",
       "        text-align: right;\n",
       "    }\n",
       "</style>\n",
       "<table border=\"1\" class=\"dataframe\">\n",
       "  <thead>\n",
       "    <tr style=\"text-align: right;\">\n",
       "      <th></th>\n",
       "      <th>accuracy_diff</th>\n",
       "    </tr>\n",
       "  </thead>\n",
       "  <tbody>\n",
       "    <tr>\n",
       "      <th>interaction_count</th>\n",
       "      <td>-0.113014</td>\n",
       "    </tr>\n",
       "    <tr>\n",
       "      <th>employment_status_unemployed</th>\n",
       "      <td>-0.003425</td>\n",
       "    </tr>\n",
       "    <tr>\n",
       "      <th>employment_status_self_employed</th>\n",
       "      <td>-0.003425</td>\n",
       "    </tr>\n",
       "    <tr>\n",
       "      <th>lead_source_paid_ads</th>\n",
       "      <td>-0.003425</td>\n",
       "    </tr>\n",
       "    <tr>\n",
       "      <th>employment_status_student</th>\n",
       "      <td>0.000000</td>\n",
       "    </tr>\n",
       "    <tr>\n",
       "      <th>employment_status_employed</th>\n",
       "      <td>0.000000</td>\n",
       "    </tr>\n",
       "    <tr>\n",
       "      <th>employment_status_NA</th>\n",
       "      <td>0.000000</td>\n",
       "    </tr>\n",
       "    <tr>\n",
       "      <th>lead_source_social_media</th>\n",
       "      <td>0.000000</td>\n",
       "    </tr>\n",
       "    <tr>\n",
       "      <th>lead_source_referral</th>\n",
       "      <td>0.000000</td>\n",
       "    </tr>\n",
       "    <tr>\n",
       "      <th>lead_source_organic_search</th>\n",
       "      <td>0.000000</td>\n",
       "    </tr>\n",
       "    <tr>\n",
       "      <th>lead_source_events</th>\n",
       "      <td>0.000000</td>\n",
       "    </tr>\n",
       "    <tr>\n",
       "      <th>lead_source_NA</th>\n",
       "      <td>0.000000</td>\n",
       "    </tr>\n",
       "    <tr>\n",
       "      <th>location_south_america</th>\n",
       "      <td>0.000000</td>\n",
       "    </tr>\n",
       "    <tr>\n",
       "      <th>industry_NA</th>\n",
       "      <td>0.000000</td>\n",
       "    </tr>\n",
       "    <tr>\n",
       "      <th>location_europe</th>\n",
       "      <td>0.000000</td>\n",
       "    </tr>\n",
       "    <tr>\n",
       "      <th>location_australia</th>\n",
       "      <td>0.000000</td>\n",
       "    </tr>\n",
       "    <tr>\n",
       "      <th>location_asia</th>\n",
       "      <td>0.000000</td>\n",
       "    </tr>\n",
       "    <tr>\n",
       "      <th>location_africa</th>\n",
       "      <td>0.000000</td>\n",
       "    </tr>\n",
       "    <tr>\n",
       "      <th>location_NA</th>\n",
       "      <td>0.000000</td>\n",
       "    </tr>\n",
       "    <tr>\n",
       "      <th>industry_technology</th>\n",
       "      <td>0.000000</td>\n",
       "    </tr>\n",
       "    <tr>\n",
       "      <th>industry_retail</th>\n",
       "      <td>0.000000</td>\n",
       "    </tr>\n",
       "    <tr>\n",
       "      <th>industry_other</th>\n",
       "      <td>0.000000</td>\n",
       "    </tr>\n",
       "    <tr>\n",
       "      <th>industry_manufacturing</th>\n",
       "      <td>0.000000</td>\n",
       "    </tr>\n",
       "    <tr>\n",
       "      <th>industry_healthcare</th>\n",
       "      <td>0.000000</td>\n",
       "    </tr>\n",
       "    <tr>\n",
       "      <th>industry_finance</th>\n",
       "      <td>0.000000</td>\n",
       "    </tr>\n",
       "    <tr>\n",
       "      <th>location_middle_east</th>\n",
       "      <td>0.000000</td>\n",
       "    </tr>\n",
       "    <tr>\n",
       "      <th>location_north_america</th>\n",
       "      <td>0.000000</td>\n",
       "    </tr>\n",
       "    <tr>\n",
       "      <th>industry_education</th>\n",
       "      <td>0.003425</td>\n",
       "    </tr>\n",
       "    <tr>\n",
       "      <th>number_of_courses_viewed</th>\n",
       "      <td>0.065068</td>\n",
       "    </tr>\n",
       "  </tbody>\n",
       "</table>\n",
       "</div>"
      ],
      "text/plain": [
       "                                 accuracy_diff\n",
       "interaction_count                    -0.113014\n",
       "employment_status_unemployed         -0.003425\n",
       "employment_status_self_employed      -0.003425\n",
       "lead_source_paid_ads                 -0.003425\n",
       "employment_status_student             0.000000\n",
       "employment_status_employed            0.000000\n",
       "employment_status_NA                  0.000000\n",
       "lead_source_social_media              0.000000\n",
       "lead_source_referral                  0.000000\n",
       "lead_source_organic_search            0.000000\n",
       "lead_source_events                    0.000000\n",
       "lead_source_NA                        0.000000\n",
       "location_south_america                0.000000\n",
       "industry_NA                           0.000000\n",
       "location_europe                       0.000000\n",
       "location_australia                    0.000000\n",
       "location_asia                         0.000000\n",
       "location_africa                       0.000000\n",
       "location_NA                           0.000000\n",
       "industry_technology                   0.000000\n",
       "industry_retail                       0.000000\n",
       "industry_other                        0.000000\n",
       "industry_manufacturing                0.000000\n",
       "industry_healthcare                   0.000000\n",
       "industry_finance                      0.000000\n",
       "location_middle_east                  0.000000\n",
       "location_north_america                0.000000\n",
       "industry_education                    0.003425\n",
       "number_of_courses_viewed              0.065068"
      ]
     },
     "execution_count": 50,
     "metadata": {},
     "output_type": "execute_result"
    }
   ],
   "source": [
    "# Which of following feature has the smallest difference?\n",
    "# Preprocessing: one-hot encode categorical features\n",
    "preprocessor = ColumnTransformer(\n",
    "    transformers=[\n",
    "        ('cat', OneHotEncoder(handle_unknown='ignore', sparse_output=False), categorical_features)\n",
    "    ],\n",
    "    remainder='passthrough'\n",
    ")\n",
    "\n",
    "# Original model\n",
    "model = LogisticRegression(solver='liblinear', C=1.0, max_iter=1000, random_state=42)\n",
    "pipeline = Pipeline(steps=[('preprocessor', preprocessor), ('classifier', model)])\n",
    "pipeline.fit(X_train, y_train)\n",
    "\n",
    "# Accuracy on validation set\n",
    "y_val_pred = pipeline.predict(X_val)\n",
    "original_acc = accuracy_score(y_val, y_val_pred)\n",
    "\n",
    "# Get feature names after one-hot encoding\n",
    "ohe = preprocessor.named_transformers_['cat']\n",
    "ohe_features = ohe.get_feature_names_out(categorical_features)\n",
    "all_features = list(ohe_features) + numerical_features\n",
    "\n",
    "# Transform training and validation sets\n",
    "X_train_transformed = preprocessor.fit_transform(X_train)\n",
    "X_val_transformed = preprocessor.transform(X_val)\n",
    "\n",
    "# Store accuracy differences\n",
    "accuracy_diff = {}\n",
    "\n",
    "for i, feature in enumerate(all_features):\n",
    "    # Remove feature column\n",
    "    X_train_drop = np.delete(X_train_transformed, i, axis=1)\n",
    "    X_val_drop = np.delete(X_val_transformed, i, axis=1)\n",
    "    \n",
    "    # Train model\n",
    "    model.fit(X_train_drop, y_train)\n",
    "    y_val_pred_drop = model.predict(X_val_drop)\n",
    "    \n",
    "    # Difference in accuracy\n",
    "    accuracy_diff[feature] = original_acc - accuracy_score(y_val, y_val_pred_drop)\n",
    "\n",
    "# Convert to DataFrame for easier inspection\n",
    "accuracy_diff_df = pd.DataFrame.from_dict(accuracy_diff, orient='index', columns=['accuracy_diff']).sort_values('accuracy_diff')\n",
    "accuracy_diff_df"
   ]
  },
  {
   "cell_type": "code",
   "execution_count": 49,
   "id": "b23f207c-2e5c-4b97-b73a-2ea34f04396f",
   "metadata": {},
   "outputs": [
    {
     "data": {
      "text/plain": [
       "{0.01: 0.743, 0.1: 0.743, 1: 0.743, 10: 0.743, 100: 0.743}"
      ]
     },
     "execution_count": 49,
     "metadata": {},
     "output_type": "execute_result"
    }
   ],
   "source": [
    "# Which of these C leads to the best accuracy on the validation set?\n",
    "# Preprocessing: one-hot encoding for categorical, passthrough for numerical\n",
    "preprocessor = ColumnTransformer(\n",
    "    transformers=[\n",
    "        ('cat', OneHotEncoder(handle_unknown='ignore', sparse_output=False), categorical_features)\n",
    "    ],\n",
    "    remainder='passthrough'\n",
    ")\n",
    "\n",
    "# Values of regularization parameter C\n",
    "C_values = [0.01, 0.1, 1, 10, 100]\n",
    "\n",
    "# Store accuracy results\n",
    "results = {}\n",
    "\n",
    "for C in C_values:\n",
    "    model = LogisticRegression(solver='liblinear', C=C, max_iter=1000, random_state=42)\n",
    "    pipeline = Pipeline(steps=[('preprocessor', preprocessor), ('classifier', model)])\n",
    "    pipeline.fit(X_train, y_train)\n",
    "    y_val_pred = pipeline.predict(X_val)\n",
    "    results[C] = round(accuracy_score(y_val, y_val_pred), 3)\n",
    "\n",
    "results"
   ]
  },
  {
   "cell_type": "code",
   "execution_count": null,
   "id": "e693e83f-071a-463e-bca1-75afa38b19c6",
   "metadata": {},
   "outputs": [],
   "source": []
  }
 ],
 "metadata": {
  "kernelspec": {
   "display_name": "Python 3 (ipykernel)",
   "language": "python",
   "name": "python3"
  },
  "language_info": {
   "codemirror_mode": {
    "name": "ipython",
    "version": 3
   },
   "file_extension": ".py",
   "mimetype": "text/x-python",
   "name": "python",
   "nbconvert_exporter": "python",
   "pygments_lexer": "ipython3",
   "version": "3.11.8"
  }
 },
 "nbformat": 4,
 "nbformat_minor": 5
}
